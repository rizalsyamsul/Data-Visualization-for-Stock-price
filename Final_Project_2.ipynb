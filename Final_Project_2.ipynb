{
  "nbformat": 4,
  "nbformat_minor": 0,
  "metadata": {
    "colab": {
      "name": "Final Project 1301184064.ipynb",
      "provenance": [],
      "collapsed_sections": []
    },
    "kernelspec": {
      "name": "python3",
      "display_name": "Python 3"
    },
    "language_info": {
      "name": "python"
    }
  },
  "cells": [
    {
      "cell_type": "code",
      "metadata": {
        "id": "ddYXtY2FZLCj"
      },
      "source": [
        "#reset_output()"
      ],
      "execution_count": 14,
      "outputs": []
    },
    {
      "cell_type": "code",
      "metadata": {
        "id": "D-f9rvnhw46L"
      },
      "source": [
        "from bokeh.io import output_notebook, curdoc\n",
        "from bokeh.plotting import figure, show, reset_output\n",
        "from bokeh.io import output_file\n",
        "from bokeh.models.widgets import Tabs, Panel, Select\n",
        "from bokeh.models import ColumnDataSource, CategoricalColorMapper, NumeralTickFormatter, HoverTool, CDSView, GroupFilter, Div\n",
        "from bokeh.layouts import gridplot, column, row, widgetbox\n",
        "\n",
        "import pandas as pd\n",
        "import numpy as np"
      ],
      "execution_count": 15,
      "outputs": []
    },
    {
      "cell_type": "code",
      "metadata": {
        "colab": {
          "base_uri": "https://localhost:8080/"
        },
        "id": "NSdaO0FnxWZA",
        "outputId": "4a934116-ff35-4b55-c09f-79e82009cbc9"
      },
      "source": [
        "from google.colab import drive\n",
        "drive.mount('/content/drive')"
      ],
      "execution_count": 2,
      "outputs": [
        {
          "output_type": "stream",
          "text": [
            "Drive already mounted at /content/drive; to attempt to forcibly remount, call drive.mount(\"/content/drive\", force_remount=True).\n"
          ],
          "name": "stdout"
        }
      ]
    },
    {
      "cell_type": "code",
      "metadata": {
        "colab": {
          "base_uri": "https://localhost:8080/",
          "height": 204
        },
        "id": "ZfANw8Ydxs5R",
        "outputId": "a5beca50-1bb3-4dbe-88f6-b97d8fcd78cb"
      },
      "source": [
        "df = pd.read_csv('drive/My Drive/Visdat/stock_market.csv', parse_dates=['Date'])\n",
        "df = df.rename(columns = {'Adj Close': 'Adj_Close'}, inplace = False)\n",
        "df.head()"
      ],
      "execution_count": 16,
      "outputs": [
        {
          "output_type": "execute_result",
          "data": {
            "text/html": [
              "<div>\n",
              "<style scoped>\n",
              "    .dataframe tbody tr th:only-of-type {\n",
              "        vertical-align: middle;\n",
              "    }\n",
              "\n",
              "    .dataframe tbody tr th {\n",
              "        vertical-align: top;\n",
              "    }\n",
              "\n",
              "    .dataframe thead th {\n",
              "        text-align: right;\n",
              "    }\n",
              "</style>\n",
              "<table border=\"1\" class=\"dataframe\">\n",
              "  <thead>\n",
              "    <tr style=\"text-align: right;\">\n",
              "      <th></th>\n",
              "      <th>Date</th>\n",
              "      <th>Adj_Close</th>\n",
              "      <th>Volume</th>\n",
              "      <th>Day_Perc_Change</th>\n",
              "      <th>Name</th>\n",
              "    </tr>\n",
              "  </thead>\n",
              "  <tbody>\n",
              "    <tr>\n",
              "      <th>0</th>\n",
              "      <td>2018-10-22</td>\n",
              "      <td>26153.150391</td>\n",
              "      <td>2.222812e+09</td>\n",
              "      <td>2.315014</td>\n",
              "      <td>HANG SENG</td>\n",
              "    </tr>\n",
              "    <tr>\n",
              "      <th>1</th>\n",
              "      <td>2018-10-23</td>\n",
              "      <td>25346.550781</td>\n",
              "      <td>1.772912e+09</td>\n",
              "      <td>-3.084139</td>\n",
              "      <td>HANG SENG</td>\n",
              "    </tr>\n",
              "    <tr>\n",
              "      <th>2</th>\n",
              "      <td>2018-10-24</td>\n",
              "      <td>25249.779297</td>\n",
              "      <td>1.962754e+09</td>\n",
              "      <td>-0.381794</td>\n",
              "      <td>HANG SENG</td>\n",
              "    </tr>\n",
              "    <tr>\n",
              "      <th>3</th>\n",
              "      <td>2018-10-25</td>\n",
              "      <td>24994.460938</td>\n",
              "      <td>2.288634e+09</td>\n",
              "      <td>-1.011171</td>\n",
              "      <td>HANG SENG</td>\n",
              "    </tr>\n",
              "    <tr>\n",
              "      <th>4</th>\n",
              "      <td>2018-10-26</td>\n",
              "      <td>24717.630859</td>\n",
              "      <td>1.688396e+09</td>\n",
              "      <td>-1.107566</td>\n",
              "      <td>HANG SENG</td>\n",
              "    </tr>\n",
              "  </tbody>\n",
              "</table>\n",
              "</div>"
            ],
            "text/plain": [
              "        Date     Adj_Close        Volume  Day_Perc_Change       Name\n",
              "0 2018-10-22  26153.150391  2.222812e+09         2.315014  HANG SENG\n",
              "1 2018-10-23  25346.550781  1.772912e+09        -3.084139  HANG SENG\n",
              "2 2018-10-24  25249.779297  1.962754e+09        -0.381794  HANG SENG\n",
              "3 2018-10-25  24994.460938  2.288634e+09        -1.011171  HANG SENG\n",
              "4 2018-10-26  24717.630859  1.688396e+09        -1.107566  HANG SENG"
            ]
          },
          "metadata": {
            "tags": []
          },
          "execution_count": 16
        }
      ]
    },
    {
      "cell_type": "code",
      "metadata": {
        "id": "p0is9m5g1XtH"
      },
      "source": [
        "cds = ColumnDataSource(df)\n",
        "hangseng_filter = [GroupFilter(column_name='Name', group='HANG SENG')]\n",
        "hangseng_view = CDSView(source=cds,\n",
        "                      filters=hangseng_filter)\n",
        "\n",
        "nikkei_filter = [GroupFilter(column_name='Name', group='NIKKEI')]\n",
        "nikkei_view = CDSView(source=cds,\n",
        "                      filters=nikkei_filter)\n",
        "\n",
        "nasdaq_filter = [GroupFilter(column_name='Name', group='NASDAQ')]\n",
        "nasdaq_view = CDSView(source=cds,\n",
        "                      filters=nasdaq_filter)"
      ],
      "execution_count": 4,
      "outputs": []
    },
    {
      "cell_type": "code",
      "metadata": {
        "id": "zLdyxyGp5h3u"
      },
      "source": [
        "circle_kwargs = {\n",
        "    'source': cds,\n",
        "    'size': 4,\n",
        "    'alpha': 0.7,\n",
        "    'selection_color':'red',\n",
        "    'nonselection_color':'lightgray',\n",
        "    'nonselection_alpha': 0.3,\n",
        "    'muted_alpha': 0.1\n",
        "}\n",
        "\n",
        "hangseng_kwargs = {\n",
        "    'view': hangseng_view,\n",
        "    'color': '#FC6E51',\n",
        "    'legend_label': 'HANG SENG'\n",
        "}\n",
        "\n",
        "nikkei_kwargs = {\n",
        "    'view': nikkei_view,\n",
        "    'color': '#A0D468',\n",
        "    'legend_label': 'NIKKEI'\n",
        "}\n",
        "\n",
        "nasdaq_kwargs = {\n",
        "    'view': nasdaq_view,\n",
        "    'color': 'aqua',\n",
        "    'legend_label': 'NASDAQ'\n",
        "}"
      ],
      "execution_count": 5,
      "outputs": []
    },
    {
      "cell_type": "code",
      "metadata": {
        "id": "m0jPvvoCcHMP"
      },
      "source": [
        "output_notebook()\n",
        "  select_tools = ['pan', 'box_select', 'wheel_zoom', 'tap', 'reset']\n",
        "  fig = figure(title= 'Adj Close',x_axis_label='Date', y_axis_label= 'Adj Close',\n",
        "              plot_height=600, plot_width=800, toolbar_location=\"right\",tools=select_tools)\n",
        "\n",
        "  fig.circle(x='Date', y='Adj_close', **circle_kwargs, **hangseng_kwargs)\n",
        "  fig.circle(x='Date', y='Adj_Close', **circle_kwargs, **nikkei_kwargs)\n",
        "  fig.circle(x='Date', y='Adj_Close', **circle_kwargs, **nasdaq_kwargs)\n",
        "  tooltips_fig= [ ('Name','@Name'),('Adj_Close', '@Adj_Close') ]\n",
        "\n",
        "  hover_glyph = fig.circle(x='Date', y= 'Adj_Close' , source=cds,size=7, alpha=0,hover_fill_color='red', hover_alpha=0.5)\n",
        "\n",
        "  fig.add_tools(HoverTool(tooltips=tooltips, renderers=[hover_glyph]))\n",
        "  fig.legend.click_policy = 'hide'"
      ],
      "execution_count": null,
      "outputs": []
    },
    {
      "cell_type": "code",
      "metadata": {
        "id": "yqv19pvyyUL9"
      },
      "source": [
        "def change():\n",
        "  ynew = y_select.value\n",
        "  output_notebook()\n",
        "  select_tools = ['pan', 'box_select', 'wheel_zoom', 'tap', 'reset']\n",
        "  fig = figure(title= ynew,x_axis_label='Date', y_axis_label= ynew,\n",
        "              plot_height=600, plot_width=800, toolbar_location=\"right\",tools=select_tools)\n",
        "\n",
        "  fig.circle(x='Date', y= ynew, **circle_kwargs, **hangseng_kwargs)\n",
        "  fig.circle(x='Date', y=ynew, **circle_kwargs, **nikkei_kwargs)\n",
        "  fig.circle(x='Date', y=ynew, **circle_kwargs, **nasdaq_kwargs)\n",
        "  tooltips_fig= [ ('Name','@Name'),(ynew, '@'ynew) ]\n",
        "\n",
        "  hover_glyph = fig.circle(x='Date', y= ynew , source=cds,size=7, alpha=0,hover_fill_color='red', hover_alpha=0.5)\n",
        "\n",
        "  fig.add_tools(HoverTool(tooltips=tooltips, renderers=[hover_glyph]))\n",
        "  fig.legend.click_policy = 'hide'"
      ],
      "execution_count": 6,
      "outputs": []
    },
    {
      "cell_type": "code",
      "metadata": {
        "id": "e8DK5tBWbp5G"
      },
      "source": [
        "y_select = Select(\n",
        "    options=['Adj_Close', 'Volume', 'Day_Perc_Change']\n",
        "    value = 'Adj_Close'\n",
        "    title = 'Pilihan'\n",
        ")\n",
        "y_select.on_change('value',change)\n",
        "\n",
        "layout = row(widgetbox(y_select), fig)\n",
        "curdoc().add_root(layout)"
      ],
      "execution_count": null,
      "outputs": []
    }
  ]
}